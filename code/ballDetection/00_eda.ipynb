{
 "cells": [
  {
   "cell_type": "markdown",
   "id": "75dc08bd",
   "metadata": {},
   "source": [
    "# EDA und Visualisierung\n",
    "Dieses Notebook dient der explorativen Datenanalyse der erhaltenen Abstandsdaten."
   ]
  },
  {
   "cell_type": "code",
   "execution_count": 12,
   "id": "78c4d29a",
   "metadata": {},
   "outputs": [],
   "source": [
    "import pandas as pd \n",
    "import numpy as np \n",
    "import matplotlib.pyplot as plt \n",
    "import seaborn as sns"
   ]
  },
  {
   "cell_type": "code",
   "execution_count": 13,
   "id": "e7fe33d5",
   "metadata": {},
   "outputs": [],
   "source": [
    "csv_path = \"../../data/2025-06-18_19-10-27/distance_labels/annotations.csv\"\n",
    "df = pd.read_csv(csv_path)"
   ]
  },
  {
   "cell_type": "code",
   "execution_count": 14,
   "id": "8f7c8d60",
   "metadata": {},
   "outputs": [
    {
     "data": {
      "text/html": [
       "<div>\n",
       "<style scoped>\n",
       "    .dataframe tbody tr th:only-of-type {\n",
       "        vertical-align: middle;\n",
       "    }\n",
       "\n",
       "    .dataframe tbody tr th {\n",
       "        vertical-align: top;\n",
       "    }\n",
       "\n",
       "    .dataframe thead th {\n",
       "        text-align: right;\n",
       "    }\n",
       "</style>\n",
       "<table border=\"1\" class=\"dataframe\">\n",
       "  <thead>\n",
       "    <tr style=\"text-align: right;\">\n",
       "      <th></th>\n",
       "      <th>ImageName</th>\n",
       "      <th>Distance</th>\n",
       "    </tr>\n",
       "  </thead>\n",
       "  <tbody>\n",
       "    <tr>\n",
       "      <th>0</th>\n",
       "      <td>2025-06-18_19-10-27_Screenshot_0.png</td>\n",
       "      <td>1.091917</td>\n",
       "    </tr>\n",
       "    <tr>\n",
       "      <th>1</th>\n",
       "      <td>2025-06-18_19-10-27_Screenshot_1.png</td>\n",
       "      <td>5.539515</td>\n",
       "    </tr>\n",
       "    <tr>\n",
       "      <th>2</th>\n",
       "      <td>2025-06-18_19-10-27_Screenshot_2.png</td>\n",
       "      <td>1.520515</td>\n",
       "    </tr>\n",
       "    <tr>\n",
       "      <th>3</th>\n",
       "      <td>2025-06-18_19-10-27_Screenshot_3.png</td>\n",
       "      <td>6.089224</td>\n",
       "    </tr>\n",
       "    <tr>\n",
       "      <th>4</th>\n",
       "      <td>2025-06-18_19-10-27_Screenshot_4.png</td>\n",
       "      <td>3.189529</td>\n",
       "    </tr>\n",
       "  </tbody>\n",
       "</table>\n",
       "</div>"
      ],
      "text/plain": [
       "                              ImageName  Distance\n",
       "0  2025-06-18_19-10-27_Screenshot_0.png  1.091917\n",
       "1  2025-06-18_19-10-27_Screenshot_1.png  5.539515\n",
       "2  2025-06-18_19-10-27_Screenshot_2.png  1.520515\n",
       "3  2025-06-18_19-10-27_Screenshot_3.png  6.089224\n",
       "4  2025-06-18_19-10-27_Screenshot_4.png  3.189529"
      ]
     },
     "execution_count": 14,
     "metadata": {},
     "output_type": "execute_result"
    }
   ],
   "source": [
    "df.head(5)"
   ]
  },
  {
   "cell_type": "code",
   "execution_count": 15,
   "id": "addd6ef9",
   "metadata": {},
   "outputs": [
    {
     "data": {
      "text/plain": [
       "(50, 2)"
      ]
     },
     "execution_count": 15,
     "metadata": {},
     "output_type": "execute_result"
    }
   ],
   "source": [
    "df.shape"
   ]
  },
  {
   "cell_type": "code",
   "execution_count": 16,
   "id": "74f4e4e8",
   "metadata": {},
   "outputs": [
    {
     "name": "stdout",
     "output_type": "stream",
     "text": [
      "<class 'pandas.core.frame.DataFrame'>\n",
      "RangeIndex: 50 entries, 0 to 49\n",
      "Data columns (total 2 columns):\n",
      " #   Column     Non-Null Count  Dtype  \n",
      "---  ------     --------------  -----  \n",
      " 0   ImageName  50 non-null     object \n",
      " 1   Distance   50 non-null     float64\n",
      "dtypes: float64(1), object(1)\n",
      "memory usage: 932.0+ bytes\n"
     ]
    }
   ],
   "source": [
    "df.info()"
   ]
  },
  {
   "cell_type": "code",
   "execution_count": 17,
   "id": "d7a636f6",
   "metadata": {},
   "outputs": [
    {
     "data": {
      "text/plain": [
       "ImageName    0\n",
       "Distance     0\n",
       "dtype: int64"
      ]
     },
     "execution_count": 17,
     "metadata": {},
     "output_type": "execute_result"
    }
   ],
   "source": [
    "# Check for null values\n",
    "df.isna().sum()"
   ]
  },
  {
   "cell_type": "code",
   "execution_count": 18,
   "id": "078825ce",
   "metadata": {},
   "outputs": [
    {
     "data": {
      "text/plain": [
       "ImageName    50\n",
       "Distance     50\n",
       "dtype: int64"
      ]
     },
     "execution_count": 18,
     "metadata": {},
     "output_type": "execute_result"
    }
   ],
   "source": [
    "# Check uniqueness\n",
    "df.nunique()"
   ]
  },
  {
   "cell_type": "code",
   "execution_count": 19,
   "id": "08da37e4",
   "metadata": {},
   "outputs": [
    {
     "name": "stdout",
     "output_type": "stream",
     "text": [
      "ImageName\n",
      "['2025-06-18_19-10-27_Screenshot_0.png'\n",
      " '2025-06-18_19-10-27_Screenshot_1.png'\n",
      " '2025-06-18_19-10-27_Screenshot_2.png'\n",
      " '2025-06-18_19-10-27_Screenshot_3.png'\n",
      " '2025-06-18_19-10-27_Screenshot_4.png'\n",
      " '2025-06-18_19-10-27_Screenshot_5.png'\n",
      " '2025-06-18_19-10-27_Screenshot_6.png'\n",
      " '2025-06-18_19-10-27_Screenshot_7.png'\n",
      " '2025-06-18_19-10-27_Screenshot_8.png'\n",
      " '2025-06-18_19-10-27_Screenshot_9.png'\n",
      " '2025-06-18_19-10-27_Screenshot_10.png'\n",
      " '2025-06-18_19-10-27_Screenshot_11.png'\n",
      " '2025-06-18_19-10-27_Screenshot_12.png'\n",
      " '2025-06-18_19-10-27_Screenshot_13.png'\n",
      " '2025-06-18_19-10-27_Screenshot_14.png'\n",
      " '2025-06-18_19-10-27_Screenshot_15.png'\n",
      " '2025-06-18_19-10-27_Screenshot_16.png'\n",
      " '2025-06-18_19-10-27_Screenshot_17.png'\n",
      " '2025-06-18_19-10-27_Screenshot_18.png'\n",
      " '2025-06-18_19-10-27_Screenshot_19.png'\n",
      " '2025-06-18_19-10-27_Screenshot_20.png'\n",
      " '2025-06-18_19-10-27_Screenshot_21.png'\n",
      " '2025-06-18_19-10-27_Screenshot_22.png'\n",
      " '2025-06-18_19-10-27_Screenshot_23.png'\n",
      " '2025-06-18_19-10-27_Screenshot_24.png'\n",
      " '2025-06-18_19-10-27_Screenshot_25.png'\n",
      " '2025-06-18_19-10-27_Screenshot_26.png'\n",
      " '2025-06-18_19-10-27_Screenshot_27.png'\n",
      " '2025-06-18_19-10-27_Screenshot_28.png'\n",
      " '2025-06-18_19-10-27_Screenshot_29.png'\n",
      " '2025-06-18_19-10-27_Screenshot_30.png'\n",
      " '2025-06-18_19-10-27_Screenshot_31.png'\n",
      " '2025-06-18_19-10-27_Screenshot_32.png'\n",
      " '2025-06-18_19-10-27_Screenshot_33.png'\n",
      " '2025-06-18_19-10-27_Screenshot_34.png'\n",
      " '2025-06-18_19-10-27_Screenshot_35.png'\n",
      " '2025-06-18_19-10-27_Screenshot_36.png'\n",
      " '2025-06-18_19-10-27_Screenshot_37.png'\n",
      " '2025-06-18_19-10-27_Screenshot_38.png'\n",
      " '2025-06-18_19-10-27_Screenshot_39.png'\n",
      " '2025-06-18_19-10-27_Screenshot_40.png'\n",
      " '2025-06-18_19-10-27_Screenshot_41.png'\n",
      " '2025-06-18_19-10-27_Screenshot_42.png'\n",
      " '2025-06-18_19-10-27_Screenshot_43.png'\n",
      " '2025-06-18_19-10-27_Screenshot_44.png'\n",
      " '2025-06-18_19-10-27_Screenshot_45.png'\n",
      " '2025-06-18_19-10-27_Screenshot_46.png'\n",
      " '2025-06-18_19-10-27_Screenshot_47.png'\n",
      " '2025-06-18_19-10-27_Screenshot_48.png'\n",
      " '2025-06-18_19-10-27_Screenshot_49.png']\n",
      "\n",
      "Distance\n",
      "[1.091917  5.539515  1.520515  6.089224  3.189529  1.287969  4.780138\n",
      " 4.733491  4.533393  1.078562  0.7119689 5.185658  4.449004  4.256766\n",
      " 4.183933  2.105922  3.621555  0.7520518 2.338808  6.123     3.909961\n",
      " 3.820822  6.251112  1.233897  3.938782  2.967833  1.995796  5.776866\n",
      " 1.629747  1.171866  4.615433  6.284545  1.824444  4.086144  5.658519\n",
      " 2.801428  3.781426  1.450822  5.746348  1.524786  1.938069  1.379483\n",
      " 5.463603  5.55991   5.539     4.328525  5.908249  6.009131  0.8497887\n",
      " 3.365775 ]\n",
      "\n"
     ]
    }
   ],
   "source": [
    "# Print all Values\n",
    "for col in df.columns:\n",
    "    print(col)\n",
    "    print(df[col].unique())\n",
    "    print()"
   ]
  },
  {
   "cell_type": "code",
   "execution_count": null,
   "id": "36231d19",
   "metadata": {},
   "outputs": [
    {
     "data": {
      "text/html": [
       "<div>\n",
       "<style scoped>\n",
       "    .dataframe tbody tr th:only-of-type {\n",
       "        vertical-align: middle;\n",
       "    }\n",
       "\n",
       "    .dataframe tbody tr th {\n",
       "        vertical-align: top;\n",
       "    }\n",
       "\n",
       "    .dataframe thead th {\n",
       "        text-align: right;\n",
       "    }\n",
       "</style>\n",
       "<table border=\"1\" class=\"dataframe\">\n",
       "  <thead>\n",
       "    <tr style=\"text-align: right;\">\n",
       "      <th></th>\n",
       "      <th>Distance</th>\n",
       "    </tr>\n",
       "  </thead>\n",
       "  <tbody>\n",
       "    <tr>\n",
       "      <th>count</th>\n",
       "      <td>50.00</td>\n",
       "    </tr>\n",
       "    <tr>\n",
       "      <th>mean</th>\n",
       "      <td>3.57</td>\n",
       "    </tr>\n",
       "    <tr>\n",
       "      <th>std</th>\n",
       "      <td>1.84</td>\n",
       "    </tr>\n",
       "    <tr>\n",
       "      <th>min</th>\n",
       "      <td>0.71</td>\n",
       "    </tr>\n",
       "    <tr>\n",
       "      <th>25%</th>\n",
       "      <td>1.68</td>\n",
       "    </tr>\n",
       "    <tr>\n",
       "      <th>50%</th>\n",
       "      <td>3.87</td>\n",
       "    </tr>\n",
       "    <tr>\n",
       "      <th>75%</th>\n",
       "      <td>5.39</td>\n",
       "    </tr>\n",
       "    <tr>\n",
       "      <th>max</th>\n",
       "      <td>6.28</td>\n",
       "    </tr>\n",
       "  </tbody>\n",
       "</table>\n",
       "</div>"
      ],
      "text/plain": [
       "       Distance\n",
       "count     50.00\n",
       "mean       3.57\n",
       "std        1.84\n",
       "min        0.71\n",
       "25%        1.68\n",
       "50%        3.87\n",
       "75%        5.39\n",
       "max        6.28"
      ]
     },
     "execution_count": 20,
     "metadata": {},
     "output_type": "execute_result"
    }
   ],
   "source": [
    "# Statistische Werte für jede Variable (auf zwei Nachkommastellen gerundet)\n",
    "# Die Porzentzahlen geben an, wie viel Prozent der Werte unter dem gegebenen Wert liegen\n",
    "df.describe().round(2)"
   ]
  },
  {
   "cell_type": "code",
   "execution_count": 21,
   "id": "6de61f6d",
   "metadata": {},
   "outputs": [
    {
     "data": {
      "image/png": "[encoded data removed]",
      "text/plain": [
       "<Figure size 500x500 with 1 Axes>"
      ]
     },
     "metadata": {},
     "output_type": "display_data"
    }
   ],
   "source": [
    "# Verteilungen der numerischen Variablen durch Histogramme mit KDE visualisieren.\n",
    "plt.figure(figsize=(5, 5))\n",
    "sns.histplot(df['Distance'], kde=True, bins=10)\n",
    "plt.title(f'Histogram of {col}')\n",
    "plt.tight_layout()\n",
    "plt.show()"
   ]
  },
  {
   "cell_type": "code",
   "execution_count": null,
   "id": "4da19511",
   "metadata": {},
   "outputs": [
    {
     "data": {
      "image/png": "[encoded data removed]",
      "text/plain": [
       "<Figure size 500x500 with 1 Axes>"
      ]
     },
     "metadata": {},
     "output_type": "display_data"
    }
   ],
   "source": [
    "# Violinplots der Verteilungen\n",
    "plt.figure(figsize=(5, 5))\n",
    "sns.violinplot(x=df['Distance'])\n",
    "plt.title(f'violin plot of {col}')\n",
    "plt.tight_layout()\n",
    "plt.show()\n"
   ]
  }
 ],
 "metadata": {
  "kernelspec": {
   "display_name": ".venv",
   "language": "python",
   "name": "python3"
  },
  "language_info": {
   "codemirror_mode": {
    "name": "ipython",
    "version": 3
   },
   "file_extension": ".py",
   "mimetype": "text/x-python",
   "name": "python",
   "nbconvert_exporter": "python",
   "pygments_lexer": "ipython3",
   "version": "3.13.2"
  }
 },
 "nbformat": 4,
 "nbformat_minor": 5
}
